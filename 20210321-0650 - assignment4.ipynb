{
 "cells": [
  {
   "cell_type": "markdown",
   "metadata": {},
   "source": [
    "## Assignment 4"
   ]
  },
  {
   "cell_type": "markdown",
   "metadata": {},
   "source": [
    "This assignment asks you to use resources at hand to apply module 6 - Linear Regression to several sets of data."
   ]
  },
  {
   "cell_type": "markdown",
   "metadata": {},
   "source": [
    "## Learning Outcomes"
   ]
  },
  {
   "cell_type": "markdown",
   "metadata": {},
   "source": [
    "- Exploratory analysis for regression\n",
    "- Understand difference between linear and non-linear models\n",
    "- Carry out OLS regression model\n",
    "- Evaluate model\n"
   ]
  },
  {
   "cell_type": "markdown",
   "metadata": {},
   "source": [
    "**Question 1**\n",
    "\n",
    "* For each data set in Assignment4_linear_regression_data.xlsx:\n",
    "\n",
    "- Create a scatter plot and visually decide if a linear model is appropriate (a matrix scatter plot will would be most efficient).\n",
    "\n",
    "* If the relation is not linear, transform the data accordingly. \n",
    " - Try logarithm, exponential, square root, square, etc., for Y and/or X until you see a linear relation.  You only need to report what is the transformation chosen, not all the attempts. \n",
    " Note:  most of the time, you can guess visually. A systematic way is to create a matrix scatter plot of the different transformations.  A generic way we did not cover is to use a Box-Cox transformation. \n",
    " \n",
    "* Create an OLS model for the original and transformed data if required. \n",
    " - Evaluate if the OLS assumptions are met: normality of errors centered around zero, equal variance, etc..., for the original data and transformed data if appropriate. \n",
    "\n",
    " - Comment how the transformation impacted the different assumptions. (This should be done only by looking at the output diagnostic charts created by the software)\n",
    " - If datasets have outliers, remove the outliers and see the effect in the model (slope, intercept and R-square)\n"
   ]
  },
  {
   "cell_type": "markdown",
   "metadata": {},
   "source": [
    "The output of the assignment should be: \n",
    "\n",
    "- OLS full report for the original and transformed data if appropriate (only two datasets should need transformation).\n",
    "\n",
    "- A short comment on the validity of the linear assumptions for the original and transformed data set when appropriate (it should not need to be longer than a couple of sentences).\n",
    "\n",
    "- An interpretation of the slope and intercept in relation to the original data, i.e. if the model is linear [intercept value] is the expected value when the independent variable is zero, etc.).  If the model is not linear, you need to transform the equation back to its original form.  \n",
    "\n",
    "Check out the following if you need further guidance:\n",
    "http://www.bzst.com/2009/09/interpreting-log-transformed-variables.html\n",
    "\n",
    "https://stats.idre.ucla.edu/other/mult-pkg/faq/general/faqhow-do-i-interpret-a-regression-model-when-some-variables-are-log-transformed/\n",
    "\n",
    "https://stats.idre.ucla.edu/sas/faq/how-can-i-interpret-log-transformed-variables-in-terms-of-percent-change-in-linear-regression/\n",
    "\n",
    "https://stats.stackexchange.com/questions/266722/interpretation-of-linear-regression-results-where-dependent-variable-is-transfor\n",
    "\n",
    "- If the dataset have outliers, determine if the outlier have leverage or not by comparing the OLS with and without the outlier.\n"
   ]
  },
  {
   "cell_type": "code",
   "execution_count": 1,
   "metadata": {},
   "outputs": [],
   "source": [
    "#your work here\n",
    "import pandas\n",
    "import matplotlib.pyplot as plt \n",
    "import numpy as np\n",
    "import statsmodels.formula.api as sm"
   ]
  },
  {
   "cell_type": "code",
   "execution_count": 2,
   "metadata": {},
   "outputs": [],
   "source": [
    "set1_df = pandas.read_csv('Assignment4_Set_1.csv')\n",
    "set2_df = pandas.read_csv('Assignment4_Set_2.csv')\n",
    "set3_df = pandas.read_csv('Assignment4_Set_3.csv')\n",
    "set4_df = pandas.read_csv('Assignment4_Set_4.csv')\n",
    "set5_df = pandas.read_csv('Assignment4_Set_5.csv')\n",
    "set6_df = pandas.read_csv('Assignment4_Set_6.csv')\n"
   ]
  },
  {
   "cell_type": "code",
   "execution_count": 3,
   "metadata": {},
   "outputs": [],
   "source": [
    "def abline(slope, intercept):\n",
    "    \"\"\"Plot a line from slope and intercept\"\"\"\n",
    "    axes = plt.gca()\n",
    "    x_vals = np.array(axes.get_xlim())\n",
    "    y_vals = intercept + slope * x_vals\n",
    "    plt.plot(x_vals, y_vals, '--')"
   ]
  },
  {
   "cell_type": "markdown",
   "metadata": {},
   "source": [
    "# Set 1"
   ]
  },
  {
   "cell_type": "code",
   "execution_count": 4,
   "metadata": {},
   "outputs": [
    {
     "data": {
      "text/html": [
       "<div>\n",
       "<style scoped>\n",
       "    .dataframe tbody tr th:only-of-type {\n",
       "        vertical-align: middle;\n",
       "    }\n",
       "\n",
       "    .dataframe tbody tr th {\n",
       "        vertical-align: top;\n",
       "    }\n",
       "\n",
       "    .dataframe thead th {\n",
       "        text-align: right;\n",
       "    }\n",
       "</style>\n",
       "<table border=\"1\" class=\"dataframe\">\n",
       "  <thead>\n",
       "    <tr style=\"text-align: right;\">\n",
       "      <th></th>\n",
       "      <th>y</th>\n",
       "      <th>x</th>\n",
       "      <th>Unnamed: 2</th>\n",
       "    </tr>\n",
       "  </thead>\n",
       "  <tbody>\n",
       "    <tr>\n",
       "      <th>0</th>\n",
       "      <td>38.858144</td>\n",
       "      <td>7.266278</td>\n",
       "      <td>NaN</td>\n",
       "    </tr>\n",
       "    <tr>\n",
       "      <th>1</th>\n",
       "      <td>40.891148</td>\n",
       "      <td>7.985333</td>\n",
       "      <td>NaN</td>\n",
       "    </tr>\n",
       "    <tr>\n",
       "      <th>2</th>\n",
       "      <td>48.971648</td>\n",
       "      <td>9.387120</td>\n",
       "      <td>NaN</td>\n",
       "    </tr>\n",
       "    <tr>\n",
       "      <th>3</th>\n",
       "      <td>46.410124</td>\n",
       "      <td>9.382849</td>\n",
       "      <td>NaN</td>\n",
       "    </tr>\n",
       "    <tr>\n",
       "      <th>4</th>\n",
       "      <td>25.333391</td>\n",
       "      <td>5.240903</td>\n",
       "      <td>NaN</td>\n",
       "    </tr>\n",
       "  </tbody>\n",
       "</table>\n",
       "</div>"
      ],
      "text/plain": [
       "           y         x  Unnamed: 2\n",
       "0  38.858144  7.266278         NaN\n",
       "1  40.891148  7.985333         NaN\n",
       "2  48.971648  9.387120         NaN\n",
       "3  46.410124  9.382849         NaN\n",
       "4  25.333391  5.240903         NaN"
      ]
     },
     "execution_count": 4,
     "metadata": {},
     "output_type": "execute_result"
    }
   ],
   "source": [
    "set1_df.head()\n"
   ]
  },
  {
   "cell_type": "code",
   "execution_count": 5,
   "metadata": {},
   "outputs": [
    {
     "data": {
      "text/html": [
       "<div>\n",
       "<style scoped>\n",
       "    .dataframe tbody tr th:only-of-type {\n",
       "        vertical-align: middle;\n",
       "    }\n",
       "\n",
       "    .dataframe tbody tr th {\n",
       "        vertical-align: top;\n",
       "    }\n",
       "\n",
       "    .dataframe thead th {\n",
       "        text-align: right;\n",
       "    }\n",
       "</style>\n",
       "<table border=\"1\" class=\"dataframe\">\n",
       "  <thead>\n",
       "    <tr style=\"text-align: right;\">\n",
       "      <th></th>\n",
       "      <th>y</th>\n",
       "      <th>x</th>\n",
       "      <th>Unnamed: 2</th>\n",
       "    </tr>\n",
       "  </thead>\n",
       "  <tbody>\n",
       "    <tr>\n",
       "      <th>y</th>\n",
       "      <td>1.000000</td>\n",
       "      <td>0.989468</td>\n",
       "      <td>NaN</td>\n",
       "    </tr>\n",
       "    <tr>\n",
       "      <th>x</th>\n",
       "      <td>0.989468</td>\n",
       "      <td>1.000000</td>\n",
       "      <td>NaN</td>\n",
       "    </tr>\n",
       "    <tr>\n",
       "      <th>Unnamed: 2</th>\n",
       "      <td>NaN</td>\n",
       "      <td>NaN</td>\n",
       "      <td>NaN</td>\n",
       "    </tr>\n",
       "  </tbody>\n",
       "</table>\n",
       "</div>"
      ],
      "text/plain": [
       "                   y         x  Unnamed: 2\n",
       "y           1.000000  0.989468         NaN\n",
       "x           0.989468  1.000000         NaN\n",
       "Unnamed: 2       NaN       NaN         NaN"
      ]
     },
     "execution_count": 5,
     "metadata": {},
     "output_type": "execute_result"
    }
   ],
   "source": [
    "# correlation matrix\n",
    "set1_df.corr(method = 'pearson')\n"
   ]
  },
  {
   "cell_type": "code",
   "execution_count": 6,
   "metadata": {},
   "outputs": [
    {
     "data": {
      "image/png": "[encoded data removed]",
      "text/plain": [
       "<Figure size 432x288 with 1 Axes>"
      ]
     },
     "metadata": {
      "needs_background": "light"
     },
     "output_type": "display_data"
    }
   ],
   "source": [
    "ax1 = set1_df.plot.scatter(x='x', y='y')"
   ]
  },
  {
   "cell_type": "code",
   "execution_count": 7,
   "metadata": {},
   "outputs": [],
   "source": [
    "x_mean = set1_df['x'].mean()\n",
    "y_mean = set1_df['y'].mean()\n",
    "\n"
   ]
  },
  {
   "cell_type": "code",
   "execution_count": 8,
   "metadata": {},
   "outputs": [
    {
     "name": "stdout",
     "output_type": "stream",
     "text": [
      "2.617712384326418 13.186232166509862\n"
     ]
    }
   ],
   "source": [
    "# Calculate the standard deviations of x, y\n",
    "\n",
    "sig_x = np.std(set1_df['x'], ddof=1)\n",
    "sig_y = np.std(set1_df['y'], ddof=1 )\n",
    "\n",
    "print(sig_x, sig_y)"
   ]
  },
  {
   "cell_type": "markdown",
   "metadata": {},
   "source": [
    "## Homemade OLS Model"
   ]
  },
  {
   "cell_type": "code",
   "execution_count": 9,
   "metadata": {},
   "outputs": [
    {
     "name": "stdout",
     "output_type": "stream",
     "text": [
      "M  = 4.9843\n",
      "b  = 0.2381\n"
     ]
    }
   ],
   "source": [
    "top = 0\n",
    "bottom = 0\n",
    "for x, y in zip(set1_df['x'], set1_df['y']):\n",
    "    top += (x - x_mean)*(y - y_mean)\n",
    "    bottom += (x - x_mean)**2\n",
    "\n",
    "m = top/bottom\n",
    "b = y_mean - m * x_mean \n",
    "\n",
    "set1_df['lg'] = m * set1_df['x'] + b\n",
    "\n",
    "print(\"M  = {:.4f}\".format(m))\n",
    "print(\"b  = {:.4f}\".format(b))"
   ]
  },
  {
   "cell_type": "code",
   "execution_count": 10,
   "metadata": {},
   "outputs": [
    {
     "data": {
      "image/png": "[encoded data removed]",
      "text/plain": [
       "<Figure size 432x288 with 1 Axes>"
      ]
     },
     "metadata": {
      "needs_background": "light"
     },
     "output_type": "display_data"
    }
   ],
   "source": [
    "ax1 = set1_df.plot.scatter(x='x', y='y')\n",
    "set1_df.plot.line(x='x', y='lg', ax=ax1, color = 'r')\n",
    "ax1.legend([\"OLS\", \"Set1\"]);"
   ]
  },
  {
   "cell_type": "code",
   "execution_count": 11,
   "metadata": {},
   "outputs": [
    {
     "data": {
      "text/plain": [
       "count    1.000000e+02\n",
       "mean     4.165557e-15\n",
       "std      1.908727e+00\n",
       "min     -3.763343e+00\n",
       "25%     -1.472735e+00\n",
       "50%     -2.630865e-01\n",
       "75%      1.133296e+00\n",
       "max      5.254912e+00\n",
       "Name: y_residuals, dtype: float64"
      ]
     },
     "execution_count": 11,
     "metadata": {},
     "output_type": "execute_result"
    },
    {
     "data": {
      "image/png": "[encoded data removed]",
      "text/plain": [
       "<Figure size 432x288 with 1 Axes>"
      ]
     },
     "metadata": {
      "needs_background": "light"
     },
     "output_type": "display_data"
    }
   ],
   "source": [
    "set1_df['y_residuals'] = set1_df['lg'] - set1_df['y']\n",
    "residuals_hist = plt.hist(set1_df.y_residuals)\n",
    "\n",
    "plt.xlabel('Y')\n",
    "plt.ylabel('Total')\n",
    "\n",
    "set1_df['y_residuals'].describe()"
   ]
  },
  {
   "cell_type": "code",
   "execution_count": 12,
   "metadata": {},
   "outputs": [
    {
     "name": "stdout",
     "output_type": "stream",
     "text": [
      "RMSE  = 1.8992\n",
      "NRMSE  = 0.0651\n"
     ]
    }
   ],
   "source": [
    "e2_sum = 0\n",
    "for e in set1_df['y_residuals']:\n",
    "    e2_sum += e**2\n",
    "\n",
    "RMSE = np.sqrt(1/len(set1_df['y_residuals']) * e2_sum)\n",
    "\n",
    "NRMSE = RMSE / y_mean\n",
    "    \n",
    "print(\"RMSE  = {:.4f}\".format(RMSE))\n",
    "print(\"NRMSE  = {:.4f}\".format(NRMSE))"
   ]
  },
  {
   "cell_type": "code",
   "execution_count": 13,
   "metadata": {},
   "outputs": [
    {
     "name": "stdout",
     "output_type": "stream",
     "text": [
      "R2 = 0.9790\n"
     ]
    }
   ],
   "source": [
    "SS_res = 0\n",
    "SS_tot = 0\n",
    "for y, lg in zip(set1_df['y'], set1_df['lg']):\n",
    "    SS_res += (y - lg)**2\n",
    "    SS_tot += (y - y_mean)**2\n",
    "    \n",
    "r_squared = 1 - SS_res/SS_tot\n",
    "\n",
    "print(\"R2 = {:.4f}\".format(r_squared))"
   ]
  },
  {
   "cell_type": "markdown",
   "metadata": {},
   "source": [
    "## Storebought OLS Model"
   ]
  },
  {
   "cell_type": "code",
   "execution_count": 14,
   "metadata": {},
   "outputs": [
    {
     "data": {
      "text/plain": [
       "Intercept    0.238070\n",
       "x            4.984259\n",
       "dtype: float64"
      ]
     },
     "execution_count": 14,
     "metadata": {},
     "output_type": "execute_result"
    }
   ],
   "source": [
    "m = sm.ols('y ~ x', data = set1_df)\n",
    "m = m.fit()\n",
    "m.params"
   ]
  },
  {
   "cell_type": "code",
   "execution_count": 15,
   "metadata": {},
   "outputs": [
    {
     "data": {
      "text/html": [
       "<table class=\"simpletable\">\n",
       "<caption>OLS Regression Results</caption>\n",
       "<tr>\n",
       "  <th>Dep. Variable:</th>            <td>y</td>        <th>  R-squared:         </th> <td>   0.979</td>\n",
       "</tr>\n",
       "<tr>\n",
       "  <th>Model:</th>                   <td>OLS</td>       <th>  Adj. R-squared:    </th> <td>   0.979</td>\n",
       "</tr>\n",
       "<tr>\n",
       "  <th>Method:</th>             <td>Least Squares</td>  <th>  F-statistic:       </th> <td>   4579.</td>\n",
       "</tr>\n",
       "<tr>\n",
       "  <th>Date:</th>             <td>Sun, 21 Mar 2021</td> <th>  Prob (F-statistic):</th> <td>4.47e-84</td>\n",
       "</tr>\n",
       "<tr>\n",
       "  <th>Time:</th>                 <td>10:42:38</td>     <th>  Log-Likelihood:    </th> <td> -206.03</td>\n",
       "</tr>\n",
       "<tr>\n",
       "  <th>No. Observations:</th>      <td>   100</td>      <th>  AIC:               </th> <td>   416.1</td>\n",
       "</tr>\n",
       "<tr>\n",
       "  <th>Df Residuals:</th>          <td>    98</td>      <th>  BIC:               </th> <td>   421.3</td>\n",
       "</tr>\n",
       "<tr>\n",
       "  <th>Df Model:</th>              <td>     1</td>      <th>                     </th>     <td> </td>   \n",
       "</tr>\n",
       "<tr>\n",
       "  <th>Covariance Type:</th>      <td>nonrobust</td>    <th>                     </th>     <td> </td>   \n",
       "</tr>\n",
       "</table>\n",
       "<table class=\"simpletable\">\n",
       "<tr>\n",
       "      <td></td>         <th>coef</th>     <th>std err</th>      <th>t</th>      <th>P>|t|</th>  <th>[0.025</th>    <th>0.975]</th>  \n",
       "</tr>\n",
       "<tr>\n",
       "  <th>Intercept</th> <td>    0.2381</td> <td>    0.469</td> <td>    0.508</td> <td> 0.613</td> <td>   -0.693</td> <td>    1.169</td>\n",
       "</tr>\n",
       "<tr>\n",
       "  <th>x</th>         <td>    4.9843</td> <td>    0.074</td> <td>   67.669</td> <td> 0.000</td> <td>    4.838</td> <td>    5.130</td>\n",
       "</tr>\n",
       "</table>\n",
       "<table class=\"simpletable\">\n",
       "<tr>\n",
       "  <th>Omnibus:</th>       <td> 4.971</td> <th>  Durbin-Watson:     </th> <td>   1.982</td>\n",
       "</tr>\n",
       "<tr>\n",
       "  <th>Prob(Omnibus):</th> <td> 0.083</td> <th>  Jarque-Bera (JB):  </th> <td>   4.783</td>\n",
       "</tr>\n",
       "<tr>\n",
       "  <th>Skew:</th>          <td>-0.536</td> <th>  Prob(JB):          </th> <td>  0.0915</td>\n",
       "</tr>\n",
       "<tr>\n",
       "  <th>Kurtosis:</th>      <td> 2.988</td> <th>  Cond. No.          </th> <td>    15.9</td>\n",
       "</tr>\n",
       "</table><br/><br/>Notes:<br/>[1] Standard Errors assume that the covariance matrix of the errors is correctly specified."
      ],
      "text/plain": [
       "<class 'statsmodels.iolib.summary.Summary'>\n",
       "\"\"\"\n",
       "                            OLS Regression Results                            \n",
       "==============================================================================\n",
       "Dep. Variable:                      y   R-squared:                       0.979\n",
       "Model:                            OLS   Adj. R-squared:                  0.979\n",
       "Method:                 Least Squares   F-statistic:                     4579.\n",
       "Date:                Sun, 21 Mar 2021   Prob (F-statistic):           4.47e-84\n",
       "Time:                        10:42:38   Log-Likelihood:                -206.03\n",
       "No. Observations:                 100   AIC:                             416.1\n",
       "Df Residuals:                      98   BIC:                             421.3\n",
       "Df Model:                           1                                         \n",
       "Covariance Type:            nonrobust                                         \n",
       "==============================================================================\n",
       "                 coef    std err          t      P>|t|      [0.025      0.975]\n",
       "------------------------------------------------------------------------------\n",
       "Intercept      0.2381      0.469      0.508      0.613      -0.693       1.169\n",
       "x              4.9843      0.074     67.669      0.000       4.838       5.130\n",
       "==============================================================================\n",
       "Omnibus:                        4.971   Durbin-Watson:                   1.982\n",
       "Prob(Omnibus):                  0.083   Jarque-Bera (JB):                4.783\n",
       "Skew:                          -0.536   Prob(JB):                       0.0915\n",
       "Kurtosis:                       2.988   Cond. No.                         15.9\n",
       "==============================================================================\n",
       "\n",
       "Notes:\n",
       "[1] Standard Errors assume that the covariance matrix of the errors is correctly specified.\n",
       "\"\"\""
      ]
     },
     "execution_count": 15,
     "metadata": {},
     "output_type": "execute_result"
    }
   ],
   "source": [
    "m.summary()"
   ]
  },
  {
   "cell_type": "markdown",
   "metadata": {},
   "source": [
    "Same Result! Sweet"
   ]
  },
  {
   "cell_type": "markdown",
   "metadata": {},
   "source": [
    "# Set 2"
   ]
  },
  {
   "cell_type": "code",
   "execution_count": 16,
   "metadata": {},
   "outputs": [
    {
     "data": {
      "text/html": [
       "<div>\n",
       "<style scoped>\n",
       "    .dataframe tbody tr th:only-of-type {\n",
       "        vertical-align: middle;\n",
       "    }\n",
       "\n",
       "    .dataframe tbody tr th {\n",
       "        vertical-align: top;\n",
       "    }\n",
       "\n",
       "    .dataframe thead th {\n",
       "        text-align: right;\n",
       "    }\n",
       "</style>\n",
       "<table border=\"1\" class=\"dataframe\">\n",
       "  <thead>\n",
       "    <tr style=\"text-align: right;\">\n",
       "      <th></th>\n",
       "      <th>y</th>\n",
       "      <th>x</th>\n",
       "    </tr>\n",
       "  </thead>\n",
       "  <tbody>\n",
       "    <tr>\n",
       "      <th>0</th>\n",
       "      <td>28.045621</td>\n",
       "      <td>4.299210</td>\n",
       "    </tr>\n",
       "    <tr>\n",
       "      <th>1</th>\n",
       "      <td>39.148284</td>\n",
       "      <td>4.528143</td>\n",
       "    </tr>\n",
       "    <tr>\n",
       "      <th>2</th>\n",
       "      <td>17.361044</td>\n",
       "      <td>3.284988</td>\n",
       "    </tr>\n",
       "    <tr>\n",
       "      <th>3</th>\n",
       "      <td>18.413561</td>\n",
       "      <td>5.709732</td>\n",
       "    </tr>\n",
       "    <tr>\n",
       "      <th>4</th>\n",
       "      <td>7.857464</td>\n",
       "      <td>3.242708</td>\n",
       "    </tr>\n",
       "  </tbody>\n",
       "</table>\n",
       "</div>"
      ],
      "text/plain": [
       "           y         x\n",
       "0  28.045621  4.299210\n",
       "1  39.148284  4.528143\n",
       "2  17.361044  3.284988\n",
       "3  18.413561  5.709732\n",
       "4   7.857464  3.242708"
      ]
     },
     "execution_count": 16,
     "metadata": {},
     "output_type": "execute_result"
    }
   ],
   "source": [
    "set2_df = set2_df.iloc[:,[0,1]]\n",
    "set2_df.head()"
   ]
  },
  {
   "cell_type": "code",
   "execution_count": 17,
   "metadata": {},
   "outputs": [
    {
     "data": {
      "text/html": [
       "<div>\n",
       "<style scoped>\n",
       "    .dataframe tbody tr th:only-of-type {\n",
       "        vertical-align: middle;\n",
       "    }\n",
       "\n",
       "    .dataframe tbody tr th {\n",
       "        vertical-align: top;\n",
       "    }\n",
       "\n",
       "    .dataframe thead th {\n",
       "        text-align: right;\n",
       "    }\n",
       "</style>\n",
       "<table border=\"1\" class=\"dataframe\">\n",
       "  <thead>\n",
       "    <tr style=\"text-align: right;\">\n",
       "      <th></th>\n",
       "      <th>y</th>\n",
       "      <th>x</th>\n",
       "    </tr>\n",
       "  </thead>\n",
       "  <tbody>\n",
       "    <tr>\n",
       "      <th>y</th>\n",
       "      <td>1.000000</td>\n",
       "      <td>0.745168</td>\n",
       "    </tr>\n",
       "    <tr>\n",
       "      <th>x</th>\n",
       "      <td>0.745168</td>\n",
       "      <td>1.000000</td>\n",
       "    </tr>\n",
       "  </tbody>\n",
       "</table>\n",
       "</div>"
      ],
      "text/plain": [
       "          y         x\n",
       "y  1.000000  0.745168\n",
       "x  0.745168  1.000000"
      ]
     },
     "execution_count": 17,
     "metadata": {},
     "output_type": "execute_result"
    }
   ],
   "source": [
    "# correlation matrix\n",
    "set2_df.corr(method = 'pearson')"
   ]
  },
  {
   "cell_type": "code",
   "execution_count": 18,
   "metadata": {},
   "outputs": [
    {
     "data": {
      "image/png": "[encoded data removed]",
      "text/plain": [
       "<Figure size 432x288 with 1 Axes>"
      ]
     },
     "metadata": {
      "needs_background": "light"
     },
     "output_type": "display_data"
    }
   ],
   "source": [
    "ax2 = set2_df.plot.scatter(x='x', y='y')"
   ]
  },
  {
   "cell_type": "code",
   "execution_count": 19,
   "metadata": {},
   "outputs": [
    {
     "name": "stdout",
     "output_type": "stream",
     "text": [
      "2.4364560000884308 15.620389615377615\n"
     ]
    }
   ],
   "source": [
    "# Calculate the standard deviations of x, y\n",
    "\n",
    "sig_x = np.std(set2_df['x'], ddof=1)\n",
    "sig_y = np.std(set2_df['y'], ddof=1 )\n",
    "\n",
    "print(sig_x, sig_y)"
   ]
  },
  {
   "cell_type": "code",
   "execution_count": 20,
   "metadata": {},
   "outputs": [],
   "source": [
    "x_mean = set2_df['x'].mean()\n",
    "y_mean = set2_df['y'].mean()"
   ]
  },
  {
   "cell_type": "code",
   "execution_count": 21,
   "metadata": {},
   "outputs": [
    {
     "name": "stdout",
     "output_type": "stream",
     "text": [
      "M  = 4.7774\n",
      "b  = 1.0956\n"
     ]
    }
   ],
   "source": [
    "top = 0\n",
    "bottom = 0\n",
    "for x, y in zip(set2_df['x'], set2_df['y']):\n",
    "    top += (x - x_mean)*(y - y_mean)\n",
    "    bottom += (x - x_mean)**2\n",
    "\n",
    "m = top/bottom\n",
    "b = y_mean - m * x_mean \n",
    "\n",
    "set2_df['lg'] = m * set2_df['x'] + b\n",
    "\n",
    "print(\"M  = {:.4f}\".format(m))\n",
    "print(\"b  = {:.4f}\".format(b))"
   ]
  },
  {
   "cell_type": "code",
   "execution_count": 22,
   "metadata": {},
   "outputs": [
    {
     "data": {
      "image/png": "[encoded data removed]",
      "text/plain": [
       "<Figure size 432x288 with 1 Axes>"
      ]
     },
     "metadata": {
      "needs_background": "light"
     },
     "output_type": "display_data"
    }
   ],
   "source": [
    "ax1 = set2_df.plot.scatter(x='x', y='y')\n",
    "set2_df.plot.line(x='x', y='lg', ax=ax1, color = 'r')\n",
    "ax1.legend([\"OLS\", \"Set2\"]);"
   ]
  },
  {
   "cell_type": "code",
   "execution_count": 23,
   "metadata": {},
   "outputs": [
    {
     "data": {
      "text/plain": [
       "count    1.000000e+02\n",
       "mean     3.552714e-17\n",
       "std      1.041688e+01\n",
       "min     -2.427189e+01\n",
       "25%     -6.825796e+00\n",
       "50%      3.255999e-01\n",
       "75%      6.370633e+00\n",
       "max      2.713100e+01\n",
       "Name: y_residuals, dtype: float64"
      ]
     },
     "execution_count": 23,
     "metadata": {},
     "output_type": "execute_result"
    },
    {
     "data": {
      "image/png": "[encoded data removed]",
      "text/plain": [
       "<Figure size 432x288 with 1 Axes>"
      ]
     },
     "metadata": {
      "needs_background": "light"
     },
     "output_type": "display_data"
    }
   ],
   "source": [
    "set2_df['y_residuals'] = set2_df['lg'] - set2_df['y']\n",
    "residuals_hist = plt.hist(set2_df.y_residuals)\n",
    "\n",
    "plt.xlabel('Y')\n",
    "plt.ylabel('Total')\n",
    "\n",
    "set2_df['y_residuals'].describe()"
   ]
  },
  {
   "cell_type": "code",
   "execution_count": 24,
   "metadata": {},
   "outputs": [
    {
     "name": "stdout",
     "output_type": "stream",
     "text": [
      "RMSE  = 10.3647\n",
      "NRMSE  = 0.3871\n"
     ]
    }
   ],
   "source": [
    "e2_sum = 0\n",
    "for e in set2_df['y_residuals']:\n",
    "    e2_sum += e**2\n",
    "\n",
    "RMSE = np.sqrt(1/len(set2_df['y_residuals']) * e2_sum)\n",
    "\n",
    "NRMSE = RMSE / y_mean\n",
    "    \n",
    "print(\"RMSE  = {:.4f}\".format(RMSE))\n",
    "print(\"NRMSE  = {:.4f}\".format(NRMSE))"
   ]
  },
  {
   "cell_type": "code",
   "execution_count": 25,
   "metadata": {},
   "outputs": [
    {
     "name": "stdout",
     "output_type": "stream",
     "text": [
      "R2 = 0.5553\n"
     ]
    }
   ],
   "source": [
    "SS_res = 0\n",
    "SS_tot = 0\n",
    "for y, lg in zip(set2_df['y'], set2_df['lg']):\n",
    "    SS_res += (y - lg)**2\n",
    "    SS_tot += (y - y_mean)**2\n",
    "    \n",
    "r_squared = 1 - SS_res/SS_tot\n",
    "\n",
    "print(\"R2 = {:.4f}\".format(r_squared))"
   ]
  },
  {
   "cell_type": "code",
   "execution_count": 26,
   "metadata": {},
   "outputs": [
    {
     "data": {
      "text/plain": [
       "Intercept    1.095552\n",
       "x            4.777354\n",
       "dtype: float64"
      ]
     },
     "execution_count": 26,
     "metadata": {},
     "output_type": "execute_result"
    }
   ],
   "source": [
    "m = sm.ols('y ~ x', data = set2_df)\n",
    "m = m.fit()\n",
    "m.params"
   ]
  },
  {
   "cell_type": "code",
   "execution_count": 27,
   "metadata": {},
   "outputs": [
    {
     "data": {
      "text/html": [
       "<table class=\"simpletable\">\n",
       "<caption>OLS Regression Results</caption>\n",
       "<tr>\n",
       "  <th>Dep. Variable:</th>            <td>y</td>        <th>  R-squared:         </th> <td>   0.555</td>\n",
       "</tr>\n",
       "<tr>\n",
       "  <th>Model:</th>                   <td>OLS</td>       <th>  Adj. R-squared:    </th> <td>   0.551</td>\n",
       "</tr>\n",
       "<tr>\n",
       "  <th>Method:</th>             <td>Least Squares</td>  <th>  F-statistic:       </th> <td>   122.4</td>\n",
       "</tr>\n",
       "<tr>\n",
       "  <th>Date:</th>             <td>Sun, 21 Mar 2021</td> <th>  Prob (F-statistic):</th> <td>6.11e-19</td>\n",
       "</tr>\n",
       "<tr>\n",
       "  <th>Time:</th>                 <td>10:42:39</td>     <th>  Log-Likelihood:    </th> <td> -375.73</td>\n",
       "</tr>\n",
       "<tr>\n",
       "  <th>No. Observations:</th>      <td>   100</td>      <th>  AIC:               </th> <td>   755.5</td>\n",
       "</tr>\n",
       "<tr>\n",
       "  <th>Df Residuals:</th>          <td>    98</td>      <th>  BIC:               </th> <td>   760.7</td>\n",
       "</tr>\n",
       "<tr>\n",
       "  <th>Df Model:</th>              <td>     1</td>      <th>                     </th>     <td> </td>   \n",
       "</tr>\n",
       "<tr>\n",
       "  <th>Covariance Type:</th>      <td>nonrobust</td>    <th>                     </th>     <td> </td>   \n",
       "</tr>\n",
       "</table>\n",
       "<table class=\"simpletable\">\n",
       "<tr>\n",
       "      <td></td>         <th>coef</th>     <th>std err</th>      <th>t</th>      <th>P>|t|</th>  <th>[0.025</th>    <th>0.975]</th>  \n",
       "</tr>\n",
       "<tr>\n",
       "  <th>Intercept</th> <td>    1.0956</td> <td>    2.547</td> <td>    0.430</td> <td> 0.668</td> <td>   -3.958</td> <td>    6.149</td>\n",
       "</tr>\n",
       "<tr>\n",
       "  <th>x</th>         <td>    4.7774</td> <td>    0.432</td> <td>   11.062</td> <td> 0.000</td> <td>    3.920</td> <td>    5.634</td>\n",
       "</tr>\n",
       "</table>\n",
       "<table class=\"simpletable\">\n",
       "<tr>\n",
       "  <th>Omnibus:</th>       <td> 0.254</td> <th>  Durbin-Watson:     </th> <td>   2.043</td>\n",
       "</tr>\n",
       "<tr>\n",
       "  <th>Prob(Omnibus):</th> <td> 0.881</td> <th>  Jarque-Bera (JB):  </th> <td>   0.079</td>\n",
       "</tr>\n",
       "<tr>\n",
       "  <th>Skew:</th>          <td>-0.065</td> <th>  Prob(JB):          </th> <td>   0.961</td>\n",
       "</tr>\n",
       "<tr>\n",
       "  <th>Kurtosis:</th>      <td> 3.045</td> <th>  Cond. No.          </th> <td>    14.7</td>\n",
       "</tr>\n",
       "</table><br/><br/>Notes:<br/>[1] Standard Errors assume that the covariance matrix of the errors is correctly specified."
      ],
      "text/plain": [
       "<class 'statsmodels.iolib.summary.Summary'>\n",
       "\"\"\"\n",
       "                            OLS Regression Results                            \n",
       "==============================================================================\n",
       "Dep. Variable:                      y   R-squared:                       0.555\n",
       "Model:                            OLS   Adj. R-squared:                  0.551\n",
       "Method:                 Least Squares   F-statistic:                     122.4\n",
       "Date:                Sun, 21 Mar 2021   Prob (F-statistic):           6.11e-19\n",
       "Time:                        10:42:39   Log-Likelihood:                -375.73\n",
       "No. Observations:                 100   AIC:                             755.5\n",
       "Df Residuals:                      98   BIC:                             760.7\n",
       "Df Model:                           1                                         \n",
       "Covariance Type:            nonrobust                                         \n",
       "==============================================================================\n",
       "                 coef    std err          t      P>|t|      [0.025      0.975]\n",
       "------------------------------------------------------------------------------\n",
       "Intercept      1.0956      2.547      0.430      0.668      -3.958       6.149\n",
       "x              4.7774      0.432     11.062      0.000       3.920       5.634\n",
       "==============================================================================\n",
       "Omnibus:                        0.254   Durbin-Watson:                   2.043\n",
       "Prob(Omnibus):                  0.881   Jarque-Bera (JB):                0.079\n",
       "Skew:                          -0.065   Prob(JB):                        0.961\n",
       "Kurtosis:                       3.045   Cond. No.                         14.7\n",
       "==============================================================================\n",
       "\n",
       "Notes:\n",
       "[1] Standard Errors assume that the covariance matrix of the errors is correctly specified.\n",
       "\"\"\""
      ]
     },
     "execution_count": 27,
     "metadata": {},
     "output_type": "execute_result"
    }
   ],
   "source": [
    "m.summary()"
   ]
  },
  {
   "cell_type": "markdown",
   "metadata": {},
   "source": [
    "# Set 3"
   ]
  },
  {
   "cell_type": "code",
   "execution_count": 28,
   "metadata": {},
   "outputs": [
    {
     "data": {
      "text/html": [
       "<div>\n",
       "<style scoped>\n",
       "    .dataframe tbody tr th:only-of-type {\n",
       "        vertical-align: middle;\n",
       "    }\n",
       "\n",
       "    .dataframe tbody tr th {\n",
       "        vertical-align: top;\n",
       "    }\n",
       "\n",
       "    .dataframe thead th {\n",
       "        text-align: right;\n",
       "    }\n",
       "</style>\n",
       "<table border=\"1\" class=\"dataframe\">\n",
       "  <thead>\n",
       "    <tr style=\"text-align: right;\">\n",
       "      <th></th>\n",
       "      <th>Y</th>\n",
       "      <th>x</th>\n",
       "    </tr>\n",
       "  </thead>\n",
       "  <tbody>\n",
       "    <tr>\n",
       "      <th>0</th>\n",
       "      <td>6428.915770</td>\n",
       "      <td>9.517</td>\n",
       "    </tr>\n",
       "    <tr>\n",
       "      <th>1</th>\n",
       "      <td>2640.000728</td>\n",
       "      <td>5.113</td>\n",
       "    </tr>\n",
       "    <tr>\n",
       "      <th>2</th>\n",
       "      <td>12858.599270</td>\n",
       "      <td>9.773</td>\n",
       "    </tr>\n",
       "    <tr>\n",
       "      <th>3</th>\n",
       "      <td>5491.450053</td>\n",
       "      <td>8.428</td>\n",
       "    </tr>\n",
       "    <tr>\n",
       "      <th>4</th>\n",
       "      <td>2838.820108</td>\n",
       "      <td>5.752</td>\n",
       "    </tr>\n",
       "  </tbody>\n",
       "</table>\n",
       "</div>"
      ],
      "text/plain": [
       "              Y      x\n",
       "0   6428.915770  9.517\n",
       "1   2640.000728  5.113\n",
       "2  12858.599270  9.773\n",
       "3   5491.450053  8.428\n",
       "4   2838.820108  5.752"
      ]
     },
     "execution_count": 28,
     "metadata": {},
     "output_type": "execute_result"
    }
   ],
   "source": [
    "set3_df.head()"
   ]
  },
  {
   "cell_type": "code",
   "execution_count": 29,
   "metadata": {},
   "outputs": [
    {
     "data": {
      "image/png": "[encoded data removed]",
      "text/plain": [
       "<Figure size 432x288 with 1 Axes>"
      ]
     },
     "metadata": {
      "needs_background": "light"
     },
     "output_type": "display_data"
    }
   ],
   "source": [
    "ax3 = set3_df.plot.scatter(x='x', y='Y')"
   ]
  },
  {
   "cell_type": "code",
   "execution_count": 30,
   "metadata": {},
   "outputs": [
    {
     "data": {
      "text/html": [
       "<div>\n",
       "<style scoped>\n",
       "    .dataframe tbody tr th:only-of-type {\n",
       "        vertical-align: middle;\n",
       "    }\n",
       "\n",
       "    .dataframe tbody tr th {\n",
       "        vertical-align: top;\n",
       "    }\n",
       "\n",
       "    .dataframe thead th {\n",
       "        text-align: right;\n",
       "    }\n",
       "</style>\n",
       "<table border=\"1\" class=\"dataframe\">\n",
       "  <thead>\n",
       "    <tr style=\"text-align: right;\">\n",
       "      <th></th>\n",
       "      <th>Y</th>\n",
       "      <th>x</th>\n",
       "    </tr>\n",
       "  </thead>\n",
       "  <tbody>\n",
       "    <tr>\n",
       "      <th>Y</th>\n",
       "      <td>1.000000</td>\n",
       "      <td>0.869031</td>\n",
       "    </tr>\n",
       "    <tr>\n",
       "      <th>x</th>\n",
       "      <td>0.869031</td>\n",
       "      <td>1.000000</td>\n",
       "    </tr>\n",
       "  </tbody>\n",
       "</table>\n",
       "</div>"
      ],
      "text/plain": [
       "          Y         x\n",
       "Y  1.000000  0.869031\n",
       "x  0.869031  1.000000"
      ]
     },
     "execution_count": 30,
     "metadata": {},
     "output_type": "execute_result"
    }
   ],
   "source": [
    "# correlation matrix\n",
    "set3_df.corr(method = 'pearson')"
   ]
  },
  {
   "cell_type": "code",
   "execution_count": 31,
   "metadata": {},
   "outputs": [],
   "source": [
    "set3_df['y_sr'] = set3_df['Y']**(1/2)"
   ]
  },
  {
   "cell_type": "code",
   "execution_count": 32,
   "metadata": {},
   "outputs": [
    {
     "data": {
      "image/png": "[encoded data removed]",
      "text/plain": [
       "<Figure size 432x288 with 1 Axes>"
      ]
     },
     "metadata": {
      "needs_background": "light"
     },
     "output_type": "display_data"
    }
   ],
   "source": [
    "ax3 = set3_df.plot.scatter(x='x', y='y_sr')"
   ]
  },
  {
   "cell_type": "code",
   "execution_count": 33,
   "metadata": {},
   "outputs": [
    {
     "data": {
      "text/html": [
       "<div>\n",
       "<style scoped>\n",
       "    .dataframe tbody tr th:only-of-type {\n",
       "        vertical-align: middle;\n",
       "    }\n",
       "\n",
       "    .dataframe tbody tr th {\n",
       "        vertical-align: top;\n",
       "    }\n",
       "\n",
       "    .dataframe thead th {\n",
       "        text-align: right;\n",
       "    }\n",
       "</style>\n",
       "<table border=\"1\" class=\"dataframe\">\n",
       "  <thead>\n",
       "    <tr style=\"text-align: right;\">\n",
       "      <th></th>\n",
       "      <th>Y</th>\n",
       "      <th>x</th>\n",
       "      <th>y_sr</th>\n",
       "    </tr>\n",
       "  </thead>\n",
       "  <tbody>\n",
       "    <tr>\n",
       "      <th>Y</th>\n",
       "      <td>1.000000</td>\n",
       "      <td>0.869031</td>\n",
       "      <td>0.970819</td>\n",
       "    </tr>\n",
       "    <tr>\n",
       "      <th>x</th>\n",
       "      <td>0.869031</td>\n",
       "      <td>1.000000</td>\n",
       "      <td>0.925824</td>\n",
       "    </tr>\n",
       "    <tr>\n",
       "      <th>y_sr</th>\n",
       "      <td>0.970819</td>\n",
       "      <td>0.925824</td>\n",
       "      <td>1.000000</td>\n",
       "    </tr>\n",
       "  </tbody>\n",
       "</table>\n",
       "</div>"
      ],
      "text/plain": [
       "             Y         x      y_sr\n",
       "Y     1.000000  0.869031  0.970819\n",
       "x     0.869031  1.000000  0.925824\n",
       "y_sr  0.970819  0.925824  1.000000"
      ]
     },
     "execution_count": 33,
     "metadata": {},
     "output_type": "execute_result"
    }
   ],
   "source": [
    "# correlation matrix\n",
    "set3_df.corr(method = 'pearson')"
   ]
  },
  {
   "cell_type": "code",
   "execution_count": 40,
   "metadata": {},
   "outputs": [
    {
     "name": "stdout",
     "output_type": "stream",
     "text": [
      "2.4440581076223094 3042.522716399385 25.833952350924456\n"
     ]
    }
   ],
   "source": [
    "# Calculate the standard deviations of x, y\n",
    "\n",
    "sig_x = np.std(set3_df['x'], ddof=1)\n",
    "sig_y = np.std(set3_df['Y'], ddof=1 )\n",
    "sig_y_sr = np.std(set3_df['y_sr'], ddof=1 )\n",
    "\n",
    "print(sig_x, sig_y, sig_y_sr)"
   ]
  },
  {
   "cell_type": "code",
   "execution_count": null,
   "metadata": {},
   "outputs": [],
   "source": [
    "x_mean = set3_df['x'].mean()\n",
    "y_mean = set3_df['Y'].mean()\n",
    "y_sr_mean = set3_df['y_sr'].mean()\n"
   ]
  },
  {
   "cell_type": "code",
   "execution_count": 41,
   "metadata": {},
   "outputs": [
    {
     "name": "stdout",
     "output_type": "stream",
     "text": [
      "M  = 1393.8560\n",
      "b  = -7465.4580\n"
     ]
    }
   ],
   "source": [
    "top = 0\n",
    "bottom = 0\n",
    "for x, y in zip(set3_df['x'], set3_df['Y']):\n",
    "    top += (x - x_mean)*(y - y_mean)\n",
    "    bottom += (x - x_mean)**2\n",
    "\n",
    "m = top/bottom\n",
    "b = y_mean - m * x_mean \n",
    "\n",
    "set3_df['lg'] = m * set3_df['x'] + b\n",
    "\n",
    "print(\"M  = {:.4f}\".format(m))\n",
    "print(\"b  = {:.4f}\".format(b))"
   ]
  },
  {
   "cell_type": "code",
   "execution_count": 43,
   "metadata": {},
   "outputs": [
    {
     "data": {
      "image/png": "[encoded data removed]",
      "text/plain": [
       "<Figure size 432x288 with 1 Axes>"
      ]
     },
     "metadata": {
      "needs_background": "light"
     },
     "output_type": "display_data"
    }
   ],
   "source": [
    "ax1 = set3_df.plot.scatter(x='x', y='Y')\n",
    "set1_df.plot.line(x='x', y='lg', ax=ax1, color = 'r')\n",
    "ax1.legend([\"OLS\", \"Set3\"]);"
   ]
  },
  {
   "cell_type": "code",
   "execution_count": null,
   "metadata": {},
   "outputs": [],
   "source": [
    "e2_sum = 0\n",
    "for e in set1_df['y_residuals']:\n",
    "    e2_sum += e**2\n",
    "\n",
    "RMSE = np.sqrt(1/len(set1_df['y_residuals']) * e2_sum)\n",
    "\n",
    "NRMSE = RMSE / y_mean\n",
    "    \n",
    "print(\"RMSE  = {:.4f}\".format(RMSE))\n",
    "print(\"NRMSE  = {:.4f}\".format(NRMSE))"
   ]
  },
  {
   "cell_type": "code",
   "execution_count": null,
   "metadata": {},
   "outputs": [],
   "source": [
    "m = sm.ols('y ~ x', data = set2_df)\n",
    "m = m.fit()\n",
    "m.params"
   ]
  },
  {
   "cell_type": "code",
   "execution_count": null,
   "metadata": {},
   "outputs": [],
   "source": [
    "m.summary()"
   ]
  },
  {
   "cell_type": "code",
   "execution_count": null,
   "metadata": {},
   "outputs": [],
   "source": []
  },
  {
   "cell_type": "code",
   "execution_count": null,
   "metadata": {},
   "outputs": [],
   "source": []
  },
  {
   "cell_type": "code",
   "execution_count": null,
   "metadata": {},
   "outputs": [],
   "source": []
  },
  {
   "cell_type": "code",
   "execution_count": null,
   "metadata": {},
   "outputs": [],
   "source": []
  },
  {
   "cell_type": "code",
   "execution_count": null,
   "metadata": {},
   "outputs": [],
   "source": []
  },
  {
   "cell_type": "markdown",
   "metadata": {},
   "source": [
    "# Set 4"
   ]
  },
  {
   "cell_type": "code",
   "execution_count": 34,
   "metadata": {},
   "outputs": [
    {
     "data": {
      "text/html": [
       "<div>\n",
       "<style scoped>\n",
       "    .dataframe tbody tr th:only-of-type {\n",
       "        vertical-align: middle;\n",
       "    }\n",
       "\n",
       "    .dataframe tbody tr th {\n",
       "        vertical-align: top;\n",
       "    }\n",
       "\n",
       "    .dataframe thead th {\n",
       "        text-align: right;\n",
       "    }\n",
       "</style>\n",
       "<table border=\"1\" class=\"dataframe\">\n",
       "  <thead>\n",
       "    <tr style=\"text-align: right;\">\n",
       "      <th></th>\n",
       "      <th>Y</th>\n",
       "      <th>x</th>\n",
       "    </tr>\n",
       "  </thead>\n",
       "  <tbody>\n",
       "    <tr>\n",
       "      <th>0</th>\n",
       "      <td>1.887192e+05</td>\n",
       "      <td>5.9947</td>\n",
       "    </tr>\n",
       "    <tr>\n",
       "      <th>1</th>\n",
       "      <td>7.107264e+03</td>\n",
       "      <td>3.9492</td>\n",
       "    </tr>\n",
       "    <tr>\n",
       "      <th>2</th>\n",
       "      <td>3.729064e+06</td>\n",
       "      <td>9.6353</td>\n",
       "    </tr>\n",
       "    <tr>\n",
       "      <th>3</th>\n",
       "      <td>5.691779e+02</td>\n",
       "      <td>0.4943</td>\n",
       "    </tr>\n",
       "    <tr>\n",
       "      <th>4</th>\n",
       "      <td>3.022130e+06</td>\n",
       "      <td>9.0811</td>\n",
       "    </tr>\n",
       "  </tbody>\n",
       "</table>\n",
       "</div>"
      ],
      "text/plain": [
       "              Y       x\n",
       "0  1.887192e+05  5.9947\n",
       "1  7.107264e+03  3.9492\n",
       "2  3.729064e+06  9.6353\n",
       "3  5.691779e+02  0.4943\n",
       "4  3.022130e+06  9.0811"
      ]
     },
     "execution_count": 34,
     "metadata": {},
     "output_type": "execute_result"
    }
   ],
   "source": [
    "set4_df.head()"
   ]
  },
  {
   "cell_type": "code",
   "execution_count": 35,
   "metadata": {},
   "outputs": [
    {
     "data": {
      "image/png": "[encoded data removed]",
      "text/plain": [
       "<Figure size 432x288 with 1 Axes>"
      ]
     },
     "metadata": {
      "needs_background": "light"
     },
     "output_type": "display_data"
    }
   ],
   "source": [
    "ax4 = set4_df.plot.scatter(x='x', y='Y')"
   ]
  },
  {
   "cell_type": "code",
   "execution_count": null,
   "metadata": {},
   "outputs": [],
   "source": [
    "# Calculate the standard deviations of x, y\n",
    "\n",
    "sig_x = np.std(set2_df['x'], ddof=1)\n",
    "sig_y = np.std(set2_df['y'], ddof=1 )\n",
    "\n",
    "print(sig_x, sig_y)"
   ]
  },
  {
   "cell_type": "code",
   "execution_count": null,
   "metadata": {},
   "outputs": [],
   "source": [
    "x_mean = set1_df['x'].mean()\n",
    "y_mean = set1_df['y'].mean()\n"
   ]
  },
  {
   "cell_type": "code",
   "execution_count": null,
   "metadata": {},
   "outputs": [],
   "source": [
    "top = 0\n",
    "bottom = 0\n",
    "for x, y in zip(set2_df['x'], set2_df['y']):\n",
    "    top += (x - x_mean)*(y - y_mean)\n",
    "    bottom += (x - x_mean)**2\n",
    "\n",
    "m = top/bottom\n",
    "b = y_mean - m * x_mean \n",
    "\n",
    "set2_df['lg'] = m * set2_df['x'] + b\n",
    "\n",
    "print(\"M  = {:.4f}\".format(m))\n",
    "print(\"b  = {:.4f}\".format(b))"
   ]
  },
  {
   "cell_type": "code",
   "execution_count": null,
   "metadata": {},
   "outputs": [],
   "source": [
    "ax1 = set1_df.plot.scatter(x='x', y='y')\n",
    "set1_df.plot.line(x='x', y='lg', ax=ax1, color = 'r')\n",
    "ax1.legend([\"OLS\", \"Set1\"]);"
   ]
  },
  {
   "cell_type": "code",
   "execution_count": null,
   "metadata": {},
   "outputs": [],
   "source": [
    "set1_df['y_residuals'] = set1_df['lg'] - set1_df['y']\n",
    "residuals_hist = plt.hist(set1_df.y_residuals)\n",
    "\n",
    "plt.xlabel('Y')\n",
    "plt.ylabel('Total')\n",
    "\n",
    "set1_df['y_residuals'].describe()"
   ]
  },
  {
   "cell_type": "code",
   "execution_count": null,
   "metadata": {},
   "outputs": [],
   "source": [
    "e2_sum = 0\n",
    "for e in set1_df['y_residuals']:\n",
    "    e2_sum += e**2\n",
    "\n",
    "RMSE = np.sqrt(1/len(set1_df['y_residuals']) * e2_sum)\n",
    "\n",
    "NRMSE = RMSE / y_mean\n",
    "    \n",
    "print(\"RMSE  = {:.4f}\".format(RMSE))\n",
    "print(\"NRMSE  = {:.4f}\".format(NRMSE))"
   ]
  },
  {
   "cell_type": "code",
   "execution_count": null,
   "metadata": {},
   "outputs": [],
   "source": [
    "m = sm.ols('y ~ x', data = set2_df)\n",
    "m = m.fit()\n",
    "m.params"
   ]
  },
  {
   "cell_type": "code",
   "execution_count": null,
   "metadata": {},
   "outputs": [],
   "source": [
    "m.summary()"
   ]
  },
  {
   "cell_type": "code",
   "execution_count": null,
   "metadata": {},
   "outputs": [],
   "source": []
  },
  {
   "cell_type": "code",
   "execution_count": null,
   "metadata": {},
   "outputs": [],
   "source": []
  },
  {
   "cell_type": "code",
   "execution_count": null,
   "metadata": {},
   "outputs": [],
   "source": []
  },
  {
   "cell_type": "code",
   "execution_count": null,
   "metadata": {},
   "outputs": [],
   "source": []
  },
  {
   "cell_type": "markdown",
   "metadata": {},
   "source": [
    "# Set 5"
   ]
  },
  {
   "cell_type": "code",
   "execution_count": 36,
   "metadata": {},
   "outputs": [
    {
     "data": {
      "text/html": [
       "<div>\n",
       "<style scoped>\n",
       "    .dataframe tbody tr th:only-of-type {\n",
       "        vertical-align: middle;\n",
       "    }\n",
       "\n",
       "    .dataframe tbody tr th {\n",
       "        vertical-align: top;\n",
       "    }\n",
       "\n",
       "    .dataframe thead th {\n",
       "        text-align: right;\n",
       "    }\n",
       "</style>\n",
       "<table border=\"1\" class=\"dataframe\">\n",
       "  <thead>\n",
       "    <tr style=\"text-align: right;\">\n",
       "      <th></th>\n",
       "      <th>Y</th>\n",
       "      <th>X</th>\n",
       "    </tr>\n",
       "  </thead>\n",
       "  <tbody>\n",
       "    <tr>\n",
       "      <th>0</th>\n",
       "      <td>47.320319</td>\n",
       "      <td>9.0527</td>\n",
       "    </tr>\n",
       "    <tr>\n",
       "      <th>1</th>\n",
       "      <td>39.862491</td>\n",
       "      <td>7.3135</td>\n",
       "    </tr>\n",
       "    <tr>\n",
       "      <th>2</th>\n",
       "      <td>42.225779</td>\n",
       "      <td>8.6471</td>\n",
       "    </tr>\n",
       "    <tr>\n",
       "      <th>3</th>\n",
       "      <td>30.010689</td>\n",
       "      <td>5.8579</td>\n",
       "    </tr>\n",
       "    <tr>\n",
       "      <th>4</th>\n",
       "      <td>43.900459</td>\n",
       "      <td>7.9357</td>\n",
       "    </tr>\n",
       "  </tbody>\n",
       "</table>\n",
       "</div>"
      ],
      "text/plain": [
       "           Y       X\n",
       "0  47.320319  9.0527\n",
       "1  39.862491  7.3135\n",
       "2  42.225779  8.6471\n",
       "3  30.010689  5.8579\n",
       "4  43.900459  7.9357"
      ]
     },
     "execution_count": 36,
     "metadata": {},
     "output_type": "execute_result"
    }
   ],
   "source": [
    "set5_df.head()"
   ]
  },
  {
   "cell_type": "code",
   "execution_count": 37,
   "metadata": {},
   "outputs": [
    {
     "data": {
      "image/png": "[encoded data removed]",
      "text/plain": [
       "<Figure size 432x288 with 1 Axes>"
      ]
     },
     "metadata": {
      "needs_background": "light"
     },
     "output_type": "display_data"
    }
   ],
   "source": [
    "ax5 = set5_df.plot.scatter(x='X', y='Y')"
   ]
  },
  {
   "cell_type": "code",
   "execution_count": null,
   "metadata": {},
   "outputs": [],
   "source": [
    "# Calculate the standard deviations of x, y\n",
    "\n",
    "sig_x = np.std(set2_df['x'], ddof=1)\n",
    "sig_y = np.std(set2_df['y'], ddof=1 )\n",
    "\n",
    "print(sig_x, sig_y)"
   ]
  },
  {
   "cell_type": "code",
   "execution_count": null,
   "metadata": {},
   "outputs": [],
   "source": [
    "x_mean = set1_df['x'].mean()\n",
    "y_mean = set1_df['y'].mean()\n"
   ]
  },
  {
   "cell_type": "code",
   "execution_count": null,
   "metadata": {},
   "outputs": [],
   "source": [
    "top = 0\n",
    "bottom = 0\n",
    "for x, y in zip(set2_df['x'], set2_df['y']):\n",
    "    top += (x - x_mean)*(y - y_mean)\n",
    "    bottom += (x - x_mean)**2\n",
    "\n",
    "m = top/bottom\n",
    "b = y_mean - m * x_mean \n",
    "\n",
    "set2_df['lg'] = m * set2_df['x'] + b\n",
    "\n",
    "print(\"M  = {:.4f}\".format(m))\n",
    "print(\"b  = {:.4f}\".format(b))"
   ]
  },
  {
   "cell_type": "code",
   "execution_count": null,
   "metadata": {},
   "outputs": [],
   "source": [
    "ax1 = set1_df.plot.scatter(x='x', y='y')\n",
    "set1_df.plot.line(x='x', y='lg', ax=ax1, color = 'r')\n",
    "ax1.legend([\"OLS\", \"Set1\"]);"
   ]
  },
  {
   "cell_type": "code",
   "execution_count": null,
   "metadata": {},
   "outputs": [],
   "source": [
    "set1_df['y_residuals'] = set1_df['lg'] - set1_df['y']\n",
    "residuals_hist = plt.hist(set1_df.y_residuals)\n",
    "\n",
    "plt.xlabel('Y')\n",
    "plt.ylabel('Total')\n",
    "\n",
    "set1_df['y_residuals'].describe()"
   ]
  },
  {
   "cell_type": "code",
   "execution_count": null,
   "metadata": {},
   "outputs": [],
   "source": [
    "e2_sum = 0\n",
    "for e in set1_df['y_residuals']:\n",
    "    e2_sum += e**2\n",
    "\n",
    "RMSE = np.sqrt(1/len(set1_df['y_residuals']) * e2_sum)\n",
    "\n",
    "NRMSE = RMSE / y_mean\n",
    "    \n",
    "print(\"RMSE  = {:.4f}\".format(RMSE))\n",
    "print(\"NRMSE  = {:.4f}\".format(NRMSE))"
   ]
  },
  {
   "cell_type": "code",
   "execution_count": null,
   "metadata": {},
   "outputs": [],
   "source": [
    "m = sm.ols('y ~ x', data = set2_df)\n",
    "m = m.fit()\n",
    "m.params"
   ]
  },
  {
   "cell_type": "code",
   "execution_count": null,
   "metadata": {},
   "outputs": [],
   "source": [
    "m.summary()"
   ]
  },
  {
   "cell_type": "code",
   "execution_count": null,
   "metadata": {},
   "outputs": [],
   "source": []
  },
  {
   "cell_type": "code",
   "execution_count": null,
   "metadata": {},
   "outputs": [],
   "source": []
  },
  {
   "cell_type": "code",
   "execution_count": null,
   "metadata": {},
   "outputs": [],
   "source": []
  },
  {
   "cell_type": "code",
   "execution_count": null,
   "metadata": {},
   "outputs": [],
   "source": []
  },
  {
   "cell_type": "markdown",
   "metadata": {},
   "source": [
    "# Set 6"
   ]
  },
  {
   "cell_type": "code",
   "execution_count": 38,
   "metadata": {},
   "outputs": [
    {
     "data": {
      "text/html": [
       "<div>\n",
       "<style scoped>\n",
       "    .dataframe tbody tr th:only-of-type {\n",
       "        vertical-align: middle;\n",
       "    }\n",
       "\n",
       "    .dataframe tbody tr th {\n",
       "        vertical-align: top;\n",
       "    }\n",
       "\n",
       "    .dataframe thead th {\n",
       "        text-align: right;\n",
       "    }\n",
       "</style>\n",
       "<table border=\"1\" class=\"dataframe\">\n",
       "  <thead>\n",
       "    <tr style=\"text-align: right;\">\n",
       "      <th></th>\n",
       "      <th>y</th>\n",
       "      <th>x</th>\n",
       "    </tr>\n",
       "  </thead>\n",
       "  <tbody>\n",
       "    <tr>\n",
       "      <th>0</th>\n",
       "      <td>-2.76</td>\n",
       "      <td>1.1290</td>\n",
       "    </tr>\n",
       "    <tr>\n",
       "      <th>1</th>\n",
       "      <td>61.07</td>\n",
       "      <td>6.9100</td>\n",
       "    </tr>\n",
       "    <tr>\n",
       "      <th>2</th>\n",
       "      <td>52.85</td>\n",
       "      <td>7.8374</td>\n",
       "    </tr>\n",
       "    <tr>\n",
       "      <th>3</th>\n",
       "      <td>-2.88</td>\n",
       "      <td>0.1335</td>\n",
       "    </tr>\n",
       "    <tr>\n",
       "      <th>4</th>\n",
       "      <td>59.05</td>\n",
       "      <td>9.2425</td>\n",
       "    </tr>\n",
       "  </tbody>\n",
       "</table>\n",
       "</div>"
      ],
      "text/plain": [
       "       y       x\n",
       "0  -2.76  1.1290\n",
       "1  61.07  6.9100\n",
       "2  52.85  7.8374\n",
       "3  -2.88  0.1335\n",
       "4  59.05  9.2425"
      ]
     },
     "execution_count": 38,
     "metadata": {},
     "output_type": "execute_result"
    }
   ],
   "source": [
    "set6_df.head()"
   ]
  },
  {
   "cell_type": "code",
   "execution_count": 39,
   "metadata": {},
   "outputs": [
    {
     "data": {
      "image/png": "[encoded data removed]",
      "text/plain": [
       "<Figure size 432x288 with 1 Axes>"
      ]
     },
     "metadata": {
      "needs_background": "light"
     },
     "output_type": "display_data"
    }
   ],
   "source": [
    "ax6 = set6_df.plot.scatter(x='x', y='y')"
   ]
  },
  {
   "cell_type": "code",
   "execution_count": null,
   "metadata": {},
   "outputs": [],
   "source": [
    "# Calculate the standard deviations of x, y\n",
    "\n",
    "sig_x = np.std(set2_df['x'], ddof=1)\n",
    "sig_y = np.std(set2_df['y'], ddof=1 )\n",
    "\n",
    "print(sig_x, sig_y)"
   ]
  },
  {
   "cell_type": "code",
   "execution_count": null,
   "metadata": {},
   "outputs": [],
   "source": [
    "top = 0\n",
    "bottom = 0\n",
    "for x, y in zip(set2_df['x'], set2_df['y']):\n",
    "    top += (x - x_mean)*(y - y_mean)\n",
    "    bottom += (x - x_mean)**2\n",
    "\n",
    "m = top/bottom\n",
    "b = y_mean - m * x_mean \n",
    "\n",
    "set2_df['lg'] = m * set2_df['x'] + b\n",
    "\n",
    "print(\"M  = {:.4f}\".format(m))\n",
    "print(\"b  = {:.4f}\".format(b))"
   ]
  },
  {
   "cell_type": "code",
   "execution_count": null,
   "metadata": {},
   "outputs": [],
   "source": [
    "ax1 = set1_df.plot.scatter(x='x', y='y')\n",
    "set1_df.plot.line(x='x', y='lg', ax=ax1, color = 'r')\n",
    "ax1.legend([\"OLS\", \"Set1\"]);"
   ]
  },
  {
   "cell_type": "code",
   "execution_count": null,
   "metadata": {},
   "outputs": [],
   "source": [
    "set1_df['y_residuals'] = set1_df['lg'] - set1_df['y']\n",
    "residuals_hist = plt.hist(set1_df.y_residuals)\n",
    "\n",
    "plt.xlabel('Y')\n",
    "plt.ylabel('Total')\n",
    "\n",
    "set1_df['y_residuals'].describe()"
   ]
  },
  {
   "cell_type": "code",
   "execution_count": null,
   "metadata": {},
   "outputs": [],
   "source": [
    "e2_sum = 0\n",
    "for e in set1_df['y_residuals']:\n",
    "    e2_sum += e**2\n",
    "\n",
    "RMSE = np.sqrt(1/len(set1_df['y_residuals']) * e2_sum)\n",
    "\n",
    "NRMSE = RMSE / y_mean\n",
    "    \n",
    "print(\"RMSE  = {:.4f}\".format(RMSE))\n",
    "print(\"NRMSE  = {:.4f}\".format(NRMSE))"
   ]
  },
  {
   "cell_type": "code",
   "execution_count": null,
   "metadata": {},
   "outputs": [],
   "source": [
    "m = sm.ols('y ~ x', data = set2_df)\n",
    "m = m.fit()\n",
    "m.params"
   ]
  },
  {
   "cell_type": "code",
   "execution_count": null,
   "metadata": {},
   "outputs": [],
   "source": [
    "m.summary()"
   ]
  },
  {
   "cell_type": "code",
   "execution_count": null,
   "metadata": {},
   "outputs": [],
   "source": []
  },
  {
   "cell_type": "code",
   "execution_count": null,
   "metadata": {},
   "outputs": [],
   "source": []
  },
  {
   "cell_type": "code",
   "execution_count": null,
   "metadata": {},
   "outputs": [],
   "source": []
  },
  {
   "cell_type": "code",
   "execution_count": null,
   "metadata": {},
   "outputs": [],
   "source": []
  }
 ],
 "metadata": {
  "kernelspec": {
   "display_name": "Python 3",
   "language": "python",
   "name": "python3"
  },
  "language_info": {
   "codemirror_mode": {
    "name": "ipython",
    "version": 3
   },
   "file_extension": ".py",
   "mimetype": "text/x-python",
   "name": "python",
   "nbconvert_exporter": "python",
   "pygments_lexer": "ipython3",
   "version": "3.7.8"
  }
 },
 "nbformat": 4,
 "nbformat_minor": 4
}
